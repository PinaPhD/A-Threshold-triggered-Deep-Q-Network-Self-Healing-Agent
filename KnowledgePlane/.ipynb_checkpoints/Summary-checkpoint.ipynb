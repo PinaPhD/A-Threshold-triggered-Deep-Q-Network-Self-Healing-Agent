{
 "cells": [
  {
   "cell_type": "markdown",
   "id": "539e4fc1",
   "metadata": {},
   "source": [
    "# Implementing self-healing autonomous software-defined IIoT-Edge networks for offshore wind power plants\n",
    "\n",
    "* @Contributor 1: Agrippina Mwangi (Utrecht University, The Netherlands)\n",
    "* @Contributor 2: León Navarro-Hilfiker (Ørsted, USA)"
   ]
  },
  {
   "cell_type": "markdown",
   "id": "9a1c7ff3",
   "metadata": {},
   "source": [
    "Topic Summary:\n",
    "> Software-defined Industrial Internet of Things -\n",
    "Edge (IIoT-Edge) networks in offshore Wind Power Plants\n",
    "(WPPs) enforce rigorous Service Level Agreements (SLAs) and\n",
    "Quality of Service (QoS) requirements to ensure reliable trans-\n",
    "mission of critical time-sensitive and best-effort data traffic. \n",
    "\n",
    ">On occasion, these IIoT-Edge networks experience flash events of\n",
    "benign traffic flows which cause network congestion resulting\n",
    "in intermittent network service interruptions. Further, given\n",
    "the intricacies of the offshore environment, these IIoT-Edge\n",
    "network equipment are exposed to extreme temperature profiles\n",
    "which cause physical damage, degrade equipment performance,\n",
    "and shorten their overall lifespan by 50%. \n",
    "\n",
    ">To mitigate these\n",
    "two stochastic disruptions, this paper proposes an externally\n",
    "adapted “Observe–Orient–Decide–Act” closed control loop self-\n",
    "healing framework. This framework autonomously monitors\n",
    "the operating temperature profiles of the IIoT-Edge network\n",
    "equipment, detects traffic anomalies, and initiates corrective\n",
    "actions through a threshold-triggered Deep Q-Network (DQN)\n",
    "self-healing agent. These corrective actions reroute traffic to\n",
    "avoid congested paths and overheated switches and throttle low-\n",
    "priority traffic based on service type classification in extreme\n",
    "cases.\n",
    "(https://github.com/PinaPhD/testbed/blob/main/docs/_static/Images/selfheal.png)"
   ]
  },
  {
   "cell_type": "markdown",
   "id": "27c8d827",
   "metadata": {},
   "source": [
    "Graphical Abstract:\n",
    "\n",
    "![Graphical-Abstract](selfheal.png)\n"
   ]
  },
  {
   "cell_type": "markdown",
   "id": "dec69897",
   "metadata": {},
   "source": [
    "Importing relevant libraries:"
   ]
  },
  {
   "cell_type": "code",
   "execution_count": 1,
   "id": "973d9c21",
   "metadata": {},
   "outputs": [],
   "source": [
    "import requests\n",
    "import time\n",
    "import logging\n",
    "import pandas as pd\n",
    "import numpy as np\n",
    "from time import strftime\n",
    "from datetime import datetime\n",
    "import os\n",
    "import networkx as nx\n",
    "import matplotlib.pyplot as plt\n"
   ]
  },
  {
   "cell_type": "markdown",
   "id": "6ddfcb15",
   "metadata": {},
   "source": [
    "## OBSERVE MODULE\n",
    "\n",
    "> Interacts with the ONOS SDN Controllers for the different ASes of the triple Wind Power Plant cluster through RESTful API endpoints (with OAUTH 2.0 access token for secure authentication and authorization). "
   ]
  },
  {
   "cell_type": "markdown",
   "id": "51e5f289",
   "metadata": {},
   "source": [
    "#### 1. Connecting to the ONOS SDN Controller via RESTful APIs from the Knowledge Plane"
   ]
  },
  {
   "cell_type": "code",
   "execution_count": null,
   "id": "06779c04",
   "metadata": {},
   "outputs": [
    {
     "name": "stdout",
     "output_type": "stream",
     "text": [
      "OBSERVE MODULE AS(n) OT Network Topology.\n",
      "\n",
      "Disclaimer: Press ENTER if you wish to use the default configurations.\n",
      "\n"
     ]
    }
   ],
   "source": [
    "'''\n",
    "        ONOS SDN controller cluster interacting with the Knowledge Base\n",
    "        Connecting to the primary SDN controller using a 8181 RESTful API based url and \n",
    "        with OAuth 2.0 access token for secure authentication and authorization.\n",
    "'''\n",
    "\n",
    "\n",
    "# Setup logging\n",
    "logging.basicConfig(level=logging.INFO, format='%(asctime)s - %(levelname)s - %(message)s')\n",
    "\n",
    "# Prompting user for ONOS controller details\n",
    "print(\"OBSERVE MODULE AS(n) OT Network Topology.\\n\\nDisclaimer: Press ENTER if you wish to use the default configurations.\\n\")\n",
    "controller_ip = input(\"Enter the IP address of the ONOS controller (default is 192.168.0.6: )\")\n",
    "controller_ip = controller_ip if controller_ip else '192.168.0.6'\n",
    "onos_base_url = f'http://{controller_ip}:8181/onos/v1'\n",
    "\n",
    "username = input(\"Enter the username for ONOS controller (default is 'onos'): \")\n",
    "username = username if username else 'onos'\n",
    "password = input(\"Enter the password for ONOS controller (default is 'rocks'): \")\n",
    "password = password if password else 'rocks'\n",
    "onos_auth = (username, password)\n"
   ]
  },
  {
   "cell_type": "markdown",
   "id": "7f3efcce",
   "metadata": {},
   "source": [
    "#### 2. Reading the Control and Data Plane Metrics using RESTful API Requests"
   ]
  },
  {
   "cell_type": "code",
   "execution_count": null,
   "id": "86389750",
   "metadata": {},
   "outputs": [],
   "source": [
    "def get_devices():\n",
    "    \"\"\" \n",
    "        Fetches network devices from the ONOS controller. \n",
    "    \"\"\"\n",
    "    \n",
    "    try:\n",
    "        response = requests.get(f'{onos_base_url}/devices', auth=onos_auth)\n",
    "        if response.status_code == 200:\n",
    "            devices = response.json().get('devices', [])\n",
    "            df = pd.DataFrame(devices)\n",
    "            return df\n",
    "        else:\n",
    "            print(f\"Failed to retrieve Network devices: Status code {response.status_code} - {response.text}\")\n",
    "    except requests.exceptions.RequestException as e:\n",
    "        print(f\"An error occurred while fetching Network devices: {e}\")\n",
    "\n",
    "def get_links():\n",
    "    \"\"\" \n",
    "        Fetches network links from the ONOS controller. \n",
    "    \"\"\"\n",
    "    \n",
    "    try:\n",
    "        response = requests.get(f'{onos_base_url}/links', auth=onos_auth)\n",
    "        if response.status_code == 200:\n",
    "            links = response.json().get('links', [])\n",
    "            df = pd.DataFrame(links)\n",
    "            return df\n",
    "        else:\n",
    "            print(f\"Failed to retrieve Network links: Status code {response.status_code} - {response.text}\")\n",
    "    except requests.exceptions.RequestException as e:\n",
    "        print(f\"An error occurred while fetching Network Links: {e}\")\n",
    "\n",
    "def get_hosts():\n",
    "    \"\"\" \n",
    "        Fetches network hosts from the ONOS controller. \n",
    "    \"\"\"\n",
    "\n",
    "    try:\n",
    "        response = requests.get(f'{onos_base_url}/hosts', auth=onos_auth)\n",
    "        if response.status_code == 200:\n",
    "            hosts = response.json().get('hosts', [])\n",
    "            df = pd.DataFrame(hosts)\n",
    "            return df\n",
    "        else:\n",
    "            print(f\"Failed to retrieve Network hosts: Status code {response.status_code} - {response.text}\")\n",
    "    except requests.exceptions.RequestException as e:\n",
    "        print(f\"An error occurred while fetching Network hosts: {e}\")\n",
    "\n",
    "def get_flows():\n",
    "    \"\"\" \n",
    "        Fetches flow rules from the ONOS controller. \n",
    "    \"\"\"\n",
    "    \n",
    "    try:\n",
    "        response = requests.get(f'{onos_base_url}/flows', auth=onos_auth)\n",
    "        if response.status_code == 200:\n",
    "            flows = response.json().get('flows', [])\n",
    "            df = pd.DataFrame(flows)\n",
    "            return df\n",
    "        else:\n",
    "            print(f\"Failed to retrieve Network flows: Status code {response.status_code} - {response.text}\")\n",
    "    except requests.exceptions.RequestException as e:\n",
    "        print(f\"An error occurred while fetching Network flows: {e}\")\n",
    "\n",
    "\n",
    "def get_port_statistics():\n",
    "    \"\"\" \n",
    "        Fetches port statistics from all devices in the ONOS controller. \n",
    "    \"\"\"\n",
    "    \n",
    "    try:\n",
    "        response = requests.get(f'{onos_base_url}/statistics/ports', auth=onos_auth)\n",
    "        if response.status_code == 200:\n",
    "            port_stats = response.json().get('statistics', [])\n",
    "            # Flatten the nested JSON structure for easier CSV writing\n",
    "            flattened_stats = []\n",
    "            for device in port_stats:\n",
    "                device_id = device['device']\n",
    "                for port in device['ports']:\n",
    "                    port['device'] = device_id\n",
    "                    flattened_stats.append(port)\n",
    "            df = pd.DataFrame(flattened_stats)\n",
    "            return df\n",
    "        else:\n",
    "            print(f\"Failed to retrieve Port Statistics: Status code {response.status_code} - {response.text}\")\n",
    "    except requests.exceptions.RequestException as e:\n",
    "        print(f\"An error occurred while fetching network port statistics: {e}\")\n",
    "\n",
    "\n",
    "#For the paths\n",
    "def get_devices_fp():\n",
    "    response = requests.get(f'{onos_base_url}/devices', auth=onos_auth)\n",
    "    return response.json()\n",
    "\n",
    "# Function to get links\n",
    "def get_links_fp():\n",
    "    response = requests.get(f'{onos_base_url}/links', auth=onos_auth)\n",
    "    return response.json()\n",
    "\n",
    "#Determine the source to destination paths\n",
    "def find_all_paths(graph, start, end, path=[]):\n",
    "    path = path + [start]\n",
    "    if start == end:\n",
    "        return [path]\n",
    "    if start not in graph:\n",
    "        return []\n",
    "    paths = []\n",
    "    for node in graph[start]:\n",
    "        if node not in path:\n",
    "            newpaths = find_all_paths(graph, node, end, path)\n",
    "            for newpath in newpaths:\n",
    "                paths.append(newpath)\n",
    "    return paths\n",
    "\n",
    "# Generating the links between the source and destination paths\n",
    "def src_to_dest_paths():\n",
    "    devices = get_devices_fp()['devices']\n",
    "    links = get_links_fp()['links']\n",
    "    \n",
    "    # Build adjacency list for the graph\n",
    "    graph = {}\n",
    "    for link in links:\n",
    "        src = link['src']['device']\n",
    "        dst = link['dst']['device']\n",
    "        if src not in graph:\n",
    "            graph[src] = []\n",
    "        if dst not in graph:\n",
    "            graph[dst] = []\n",
    "        graph[src].append(dst)\n",
    "        graph[dst].append(src)\n",
    "    \n",
    "    # Iterate over each pair of devices to find all paths\n",
    "    device_ids = [device['id'] for device in devices]\n",
    "    paths_list = []\n",
    "    \n",
    "    for i in range(len(device_ids)):\n",
    "        for j in range(i + 1, len(device_ids)):\n",
    "            source_device = device_ids[i]\n",
    "            destination_device = device_ids[j]\n",
    "            \n",
    "            # Find all paths\n",
    "            paths = find_all_paths(graph, source_device, destination_device)\n",
    "            \n",
    "            # Store paths\n",
    "            for path in paths:\n",
    "                paths_list.append({\n",
    "                    'source': source_device,\n",
    "                    'destination': destination_device,\n",
    "                    'path': \" -> \".join(path)\n",
    "                })\n",
    "\n",
    "    df_paths = pd.DataFrame(paths_list)\n",
    "    return df_paths\n",
    "\n"
   ]
  },
  {
   "cell_type": "code",
   "execution_count": null,
   "id": "dbd7ed61",
   "metadata": {},
   "outputs": [],
   "source": [
    "devices = get_devices()\n",
    "devices"
   ]
  },
  {
   "cell_type": "code",
   "execution_count": null,
   "id": "630444f7",
   "metadata": {},
   "outputs": [],
   "source": [
    "hosts = get_hosts()\n",
    "hosts"
   ]
  },
  {
   "cell_type": "code",
   "execution_count": null,
   "id": "8ee9f7f5",
   "metadata": {},
   "outputs": [],
   "source": [
    "links =get_links()\n",
    "links"
   ]
  },
  {
   "cell_type": "code",
   "execution_count": null,
   "id": "3e026530",
   "metadata": {},
   "outputs": [],
   "source": [
    "flows = get_flows()\n",
    "flows"
   ]
  },
  {
   "cell_type": "code",
   "execution_count": null,
   "id": "268f6ffc",
   "metadata": {},
   "outputs": [],
   "source": [
    "#Separating the permanent (Switch to controller) flows from the temporary (switch-to-switch) flows\n",
    "# For flows (permanent and temporary flows are identified)\n",
    "dp_to_cp = flows[flows['appId'] == 'org.onosproject.core']  # Permanent\n",
    "dp_to_dp = flows[flows['appId'] == 'org.onosproject.fwd']   # Renewed periodically/Temporary\n",
    "dp_to_dp"
   ]
  },
  {
   "cell_type": "code",
   "execution_count": null,
   "id": "2b99c503",
   "metadata": {},
   "outputs": [],
   "source": [
    "paths = src_to_dest_paths()\n",
    "paths"
   ]
  },
  {
   "cell_type": "code",
   "execution_count": null,
   "id": "9d08840f",
   "metadata": {},
   "outputs": [],
   "source": [
    "port_stats = get_port_statistics()\n",
    "port_stats"
   ]
  },
  {
   "cell_type": "markdown",
   "id": "400f8a1d",
   "metadata": {},
   "source": [
    "#### 3. Saving these static metrics to a csv file  (Portable for sharing)"
   ]
  },
  {
   "cell_type": "code",
   "execution_count": null,
   "id": "cd2e6825",
   "metadata": {},
   "outputs": [],
   "source": [
    "# Create a timestamp\n",
    "timestamp = strftime(\"%Y%m%d_%H%M%S\")\n",
    "file_name = f'Data/network_data_{timestamp}.xlsx'\n",
    "\n",
    "with pd.ExcelWriter(file_name) as writer:\n",
    "    devices.to_excel(writer, sheet_name='Devices')\n",
    "    links.to_excel(writer, sheet_name='Links')\n",
    "    hosts.to_excel(writer, sheet_name='Hosts')\n",
    "    dp_to_dp.to_excel(writer, sheet_name='FD_to_FD_Flows')\n",
    "    dp_to_cp.to_excel(writer, sheet_name='FD_to_SDNC_Flows')\n",
    "    paths.to_excel(writer, sheet_name='Paths')\n",
    "\n",
    "print(f\"\\nData successfully sent to Knowledge Base and saved to: {file_name}\")\n",
    "       "
   ]
  },
  {
   "cell_type": "markdown",
   "id": "5fd68ee5",
   "metadata": {},
   "source": [
    "### Temperature Module\n",
    "\n",
    "@Contributor: León Navarro-Hilfiker\n",
    "\n",
    "> Temperature module generates the temperature profiles for each device on the network topology in the data plane of the connected SDN control plane. This is done because Mininet does not inherently capture device temperatures hence we model temperature profiles for an offshore wind farm considering that it is served by (n+1) HVAC units that orchestrate a cooling mechanism. "
   ]
  },
  {
   "cell_type": "code",
   "execution_count": null,
   "id": "95721bb4",
   "metadata": {},
   "outputs": [],
   "source": [
    "#Reading the switches from the network topology\n",
    "device_id = np.array(devices['id'])"
   ]
  },
  {
   "cell_type": "code",
   "execution_count": null,
   "id": "2ea2fcba",
   "metadata": {},
   "outputs": [],
   "source": []
  },
  {
   "cell_type": "markdown",
   "id": "ce3022e9",
   "metadata": {},
   "source": [
    "## ORIENT MODULE"
   ]
  },
  {
   "cell_type": "markdown",
   "id": "3e4074a2",
   "metadata": {},
   "source": [
    "> Reads and visualizes the latest network topology design and traffic matrix from the OBSERVE module metrics. It develops an annotated visual of the non-oriented graphical representation of the network topology."
   ]
  },
  {
   "cell_type": "markdown",
   "id": "dfb179c4",
   "metadata": {},
   "source": [
    "#### 1. Visualizing the network topology"
   ]
  },
  {
   "cell_type": "code",
   "execution_count": null,
   "id": "19e466ec",
   "metadata": {},
   "outputs": [],
   "source": [
    "'''\n",
    "    Visualize the network topology for IP: 192.168.0.*\n",
    "'''\n",
    "\n",
    "def visualize_network(devices, links, hosts):\n",
    "    \"\"\"Visualizes the network topology using NetworkX and Matplotlib.\"\"\"\n",
    "    G = nx.Graph()\n",
    "    \n",
    "    # Add device nodes\n",
    "    for _, device in devices.iterrows():\n",
    "        G.add_node(device['id'], label=device['id'], color='skyblue')\n",
    "    \n",
    "    # Add host nodes and their edges to devices\n",
    "    for _, host in hosts.iterrows():\n",
    "        host_id = host['id']\n",
    "        for location in host['locations']:\n",
    "            device_id = location['elementId']\n",
    "            G.add_node(host_id, label=host_id, color='black')\n",
    "            G.add_edge(host_id, device_id)\n",
    "    \n",
    "    # Add device-device edges\n",
    "    for _, link in links.iterrows():\n",
    "        src = link['src']['device']\n",
    "        dst = link['dst']['device']\n",
    "        G.add_edge(src, dst)\n",
    "    \n",
    "    # Get node colors\n",
    "    node_colors = [G.nodes[node].get('color', 'skyblue') for node in G.nodes()]\n",
    "    \n",
    "    # Draw the network\n",
    "    pos = nx.spring_layout(G)  # Layout for better visualization\n",
    "    plt.figure(figsize=(20, 15))\n",
    "    nx.draw(G, pos, with_labels=True, node_color=node_colors, node_size=250, font_size=12, font_weight='bold', edge_color='gray')\n",
    "    plt.title(\"Network Topology\")\n",
    "    plt.show()\n"
   ]
  },
  {
   "cell_type": "code",
   "execution_count": null,
   "id": "9b3d0f67",
   "metadata": {},
   "outputs": [],
   "source": [
    "# Visualize the network topology\n",
    "visualize_network(devices, links, hosts)"
   ]
  },
  {
   "cell_type": "markdown",
   "id": "842a9603",
   "metadata": {},
   "source": [
    "#### 2. Extracting the traffic matrix from the network topology\n",
    "\n",
    "> Using offshore WPP data services and requirements, select source-destination hosts were selected to represent the **three case scenarios**: (a) Critical, time sensitive data transfer, (b) Critical, delay tolerant data transfer, (c) Best effort data transfer."
   ]
  },
  {
   "cell_type": "markdown",
   "id": "849c8c4c",
   "metadata": {},
   "source": [
    "##### 2a. Reading the link utilization"
   ]
  },
  {
   "cell_type": "code",
   "execution_count": null,
   "id": "a79bcca8",
   "metadata": {},
   "outputs": [],
   "source": []
  },
  {
   "cell_type": "code",
   "execution_count": null,
   "id": "54652a0e",
   "metadata": {},
   "outputs": [],
   "source": []
  },
  {
   "cell_type": "markdown",
   "id": "4d333a75",
   "metadata": {},
   "source": [
    "##### 2b. Reading the path latency"
   ]
  },
  {
   "cell_type": "code",
   "execution_count": null,
   "id": "5045dbed",
   "metadata": {},
   "outputs": [],
   "source": []
  },
  {
   "cell_type": "code",
   "execution_count": null,
   "id": "dd3e2441",
   "metadata": {},
   "outputs": [],
   "source": []
  },
  {
   "cell_type": "markdown",
   "id": "c1c41478",
   "metadata": {},
   "source": [
    "##### 2c. Reading the device temperatures"
   ]
  },
  {
   "cell_type": "code",
   "execution_count": null,
   "id": "831cafe4",
   "metadata": {},
   "outputs": [],
   "source": []
  },
  {
   "cell_type": "code",
   "execution_count": null,
   "id": "6cb628a3",
   "metadata": {},
   "outputs": [],
   "source": []
  },
  {
   "cell_type": "markdown",
   "id": "36dce9ea",
   "metadata": {},
   "source": [
    "#### 3. QoS/SLA Thresholds\n",
    "\n",
    "> The ABSTRACTION Module gathers the **user intents** - which are the desired outcomes or needs that guide the network design and service management - from the Operations and Maintenance personnel, business executives, regulators, and other key stakeholders. The ABSTRACTION Module converts these **user intents** to **system intents** which are high-level network configurations and policies. \n",
    "\n",
    "![Graphical Abstract](Decide_Module.png)"
   ]
  },
  {
   "cell_type": "code",
   "execution_count": null,
   "id": "6ba676c0",
   "metadata": {},
   "outputs": [],
   "source": []
  },
  {
   "cell_type": "code",
   "execution_count": null,
   "id": "a72f1857",
   "metadata": {},
   "outputs": [],
   "source": []
  },
  {
   "cell_type": "markdown",
   "id": "22186995",
   "metadata": {},
   "source": [
    "## DECIDE MODULE"
   ]
  },
  {
   "cell_type": "markdown",
   "id": "c5e3a609",
   "metadata": {},
   "source": [
    "##### 1. Determining the overall input state space for the DQN self-healing agent"
   ]
  },
  {
   "cell_type": "code",
   "execution_count": null,
   "id": "acdfa103",
   "metadata": {},
   "outputs": [],
   "source": []
  },
  {
   "cell_type": "code",
   "execution_count": null,
   "id": "a17fe759",
   "metadata": {},
   "outputs": [],
   "source": []
  },
  {
   "cell_type": "markdown",
   "id": "ad487d73",
   "metadata": {},
   "source": [
    "---\n",
    "\n",
    "#### With Thanks,\n",
    "\n",
    "![funding organizations](Funding.jpg)\n",
    "\n",
    "The Innovative Tools for Cyber-Physical Energy Systems (InnoCyPES) project has received funding from the European Union’s Horizon 2020 research and innovation programme under the Marie Sklodowska Curie grant agreement No 956433.\n"
   ]
  },
  {
   "cell_type": "code",
   "execution_count": null,
   "id": "49a2e25f",
   "metadata": {},
   "outputs": [],
   "source": []
  },
  {
   "cell_type": "code",
   "execution_count": null,
   "id": "7351be15",
   "metadata": {},
   "outputs": [],
   "source": []
  }
 ],
 "metadata": {
  "kernelspec": {
   "display_name": "Python 3 (ipykernel)",
   "language": "python",
   "name": "python3"
  },
  "language_info": {
   "codemirror_mode": {
    "name": "ipython",
    "version": 3
   },
   "file_extension": ".py",
   "mimetype": "text/x-python",
   "name": "python",
   "nbconvert_exporter": "python",
   "pygments_lexer": "ipython3",
   "version": "3.11.7"
  }
 },
 "nbformat": 4,
 "nbformat_minor": 5
}
